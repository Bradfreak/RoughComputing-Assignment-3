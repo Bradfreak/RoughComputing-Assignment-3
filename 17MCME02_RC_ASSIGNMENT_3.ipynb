{
  "nbformat": 4,
  "nbformat_minor": 0,
  "metadata": {
    "colab": {
      "name": "17MCME02-RC-ASSIGNMENT-3.ipynb",
      "provenance": [],
      "authorship_tag": "ABX9TyMJKkJG2LvsdlxYI6bu1wfE",
      "include_colab_link": true
    },
    "kernelspec": {
      "name": "python3",
      "display_name": "Python 3"
    },
    "language_info": {
      "name": "python"
    }
  },
  "cells": [
    {
      "cell_type": "markdown",
      "metadata": {
        "id": "view-in-github",
        "colab_type": "text"
      },
      "source": [
        "<a href=\"https://colab.research.google.com/github/Bradfreak/RoughComputing-Assignment-3/blob/main/17MCME02_RC_ASSIGNMENT_3.ipynb\" target=\"_parent\"><img src=\"https://colab.research.google.com/assets/colab-badge.svg\" alt=\"Open In Colab\"/></a>"
      ]
    },
    {
      "cell_type": "markdown",
      "metadata": {
        "id": "sOpjb1_-S1uR"
      },
      "source": [
        "**RC Assignment - 3**\n",
        "\n",
        "17MCME02"
      ]
    },
    {
      "cell_type": "code",
      "metadata": {
        "id": "AfiRNOzitRsY"
      },
      "source": [
        "import pandas as pd"
      ],
      "execution_count": null,
      "outputs": []
    },
    {
      "cell_type": "code",
      "metadata": {
        "colab": {
          "base_uri": "https://localhost:8080/"
        },
        "id": "L1H29CDQuAlo",
        "outputId": "e4340e16-44d3-4841-fa2d-d12930707e56"
      },
      "source": [
        "data = pd.read_csv('input.txt', delimiter=\" \")\n",
        "Universe = data['Object_ID'].tolist()\n",
        "print(data)"
      ],
      "execution_count": null,
      "outputs": [
        {
          "output_type": "stream",
          "text": [
            "   Object_ID   Outlook Temperature Humidity  Windy Class\n",
            "0         O1     sunny         hot     high  False     N\n",
            "1         O2     sunny         hot     high   True     N\n",
            "2         O3  overcast         hot     high  False     P\n",
            "3         O4      rain        mild     high  False     P\n",
            "4         O5      rain        cool   normal  False     P\n",
            "5         O6      rain        cool   normal   True     N\n",
            "6         O7  overcast        cool   normal   True     P\n",
            "7         O8     sunny        mild     high  False     N\n",
            "8         O9     sunny        cool   normal  False     P\n",
            "9        O10      rain        mild   normal  False     P\n",
            "10       O11     sunny        mild   normal   True     P\n",
            "11       O12  overcast        mild     high   True     P\n",
            "12       O13  overcast         hot   normal  False     P\n",
            "13       O14      rain        mild     high   True     N\n"
          ],
          "name": "stdout"
        }
      ]
    },
    {
      "cell_type": "markdown",
      "metadata": {
        "id": "Kja_yTDFujSy"
      },
      "source": [
        "1.     To provide partition of the tuples of the table for a given attribute (a name in the Heading of the table)"
      ]
    },
    {
      "cell_type": "code",
      "metadata": {
        "colab": {
          "base_uri": "https://localhost:8080/"
        },
        "id": "XjJo589cuHiS",
        "outputId": "c96d17d5-2d09-4ab0-f8f8-c1c9bfdd74c4"
      },
      "source": [
        "def partition(inp):\n",
        "  ans = {}\n",
        "  for i in data[inp].unique().tolist():\n",
        "    ans[i] = data.loc[data[inp] == i]['Object_ID'].tolist()\n",
        "  return ans\n",
        "\n",
        "print(\"Partitions of \",inp)\n",
        "print(partition(\"Temperature\"))"
      ],
      "execution_count": null,
      "outputs": [
        {
          "output_type": "stream",
          "text": [
            "Partitions of  Temperature\n",
            "{'hot': ['O1', 'O2', 'O3', 'O13'], 'mild': ['O4', 'O8', 'O10', 'O11', 'O12', 'O14'], 'cool': ['O5', 'O6', 'O7', 'O9']}\n"
          ],
          "name": "stdout"
        }
      ]
    },
    {
      "cell_type": "markdown",
      "metadata": {
        "id": "ERgLQL8kxH-k"
      },
      "source": [
        "2.     Using the function of task 1, compute partitions for all the attributes of the table."
      ]
    },
    {
      "cell_type": "code",
      "metadata": {
        "colab": {
          "base_uri": "https://localhost:8080/"
        },
        "id": "o2Z_9h3cwfQ4",
        "outputId": "62bece38-081f-4ce9-ccf1-56142f40b235"
      },
      "source": [
        "def partition_all():\n",
        "  data_head = list(data.columns.values)\n",
        "  data_head.remove('Object_ID')\n",
        "  data_head.remove('Class')\n",
        "  ans = {}\n",
        "  for i in data_head:\n",
        "    ans[i] = partition(i)\n",
        "  return ans\n",
        "\n",
        "print(\"Partitions of all attributes\")\n",
        "print(partition_all())"
      ],
      "execution_count": null,
      "outputs": [
        {
          "output_type": "stream",
          "text": [
            "Partitions of all attributes\n",
            "{'Outlook': {'sunny': ['O1', 'O2', 'O8', 'O9', 'O11'], 'overcast': ['O3', 'O7', 'O12', 'O13'], 'rain': ['O4', 'O5', 'O6', 'O10', 'O14']}, 'Temperature': {'hot': ['O1', 'O2', 'O3', 'O13'], 'mild': ['O4', 'O8', 'O10', 'O11', 'O12', 'O14'], 'cool': ['O5', 'O6', 'O7', 'O9']}, 'Humidity': {'high': ['O1', 'O2', 'O3', 'O4', 'O8', 'O12', 'O14'], 'normal': ['O5', 'O6', 'O7', 'O9', 'O10', 'O11', 'O13']}, 'Windy': {False: ['O1', 'O3', 'O4', 'O5', 'O8', 'O9', 'O10', 'O13'], True: ['O2', 'O6', 'O7', 'O11', 'O12', 'O14']}}\n"
          ],
          "name": "stdout"
        }
      ]
    },
    {
      "cell_type": "markdown",
      "metadata": {
        "id": "_XG7CUHLxKs8"
      },
      "source": [
        "3.     To produce a simple set of given set A\n",
        "\n"
      ]
    },
    {
      "cell_type": "code",
      "metadata": {
        "colab": {
          "base_uri": "https://localhost:8080/"
        },
        "id": "wsNDKIzAw86u",
        "outputId": "e436b4e2-20d1-4ab4-e297-bf346378b23e"
      },
      "source": [
        "def simple_set(A):\n",
        "  set_A = set(A)\n",
        "  return set_A\n",
        "\n",
        "list_A = [1,2,2,4,5,6,6,8]\n",
        "print(simple_set(list_A))"
      ],
      "execution_count": null,
      "outputs": [
        {
          "output_type": "stream",
          "text": [
            "{1, 2, 4, 5, 6, 8}\n"
          ],
          "name": "stdout"
        }
      ]
    },
    {
      "cell_type": "markdown",
      "metadata": {
        "id": "_O1jIBgOycE2"
      },
      "source": [
        "4. To produce frequency table of elements of given set A"
      ]
    },
    {
      "cell_type": "code",
      "metadata": {
        "colab": {
          "base_uri": "https://localhost:8080/"
        },
        "id": "7OHVviqhyahv",
        "outputId": "49569424-2ab4-454c-d97a-46811acd6676"
      },
      "source": [
        "def freTable(A):\n",
        "    freq = {}\n",
        "    for item in A:\n",
        "        freq[item] = A.count(item)\n",
        "    return freq\n",
        "\n",
        "list_A=[1,1,2,2,3,4,5,5,6,7]\n",
        "print(freTable(list_A))"
      ],
      "execution_count": null,
      "outputs": [
        {
          "output_type": "stream",
          "text": [
            "{1: 2, 2: 2, 3: 1, 4: 1, 5: 2, 6: 1, 7: 1}\n"
          ],
          "name": "stdout"
        }
      ]
    },
    {
      "cell_type": "markdown",
      "metadata": {
        "id": "rjpq4J1gzFGc"
      },
      "source": [
        "5. To get the cardinality of a given set A"
      ]
    },
    {
      "cell_type": "code",
      "metadata": {
        "colab": {
          "base_uri": "https://localhost:8080/"
        },
        "id": "SfiMUlcazAWn",
        "outputId": "167b036f-a4f1-441d-b4d9-24f379dcc480"
      },
      "source": [
        "def getCardinality(A):\n",
        "    return len(A)\n",
        "\n",
        "list_A=[1,1,2,2,3,4,5,5,6,7]\n",
        "print(getCardinality(list_A))"
      ],
      "execution_count": null,
      "outputs": [
        {
          "output_type": "stream",
          "text": [
            "10\n"
          ],
          "name": "stdout"
        }
      ]
    },
    {
      "cell_type": "markdown",
      "metadata": {
        "id": "ike4SbAD1ui6"
      },
      "source": [
        "6. To get the cardinality of the corresponding simple set of a given set A."
      ]
    },
    {
      "cell_type": "code",
      "metadata": {
        "colab": {
          "base_uri": "https://localhost:8080/"
        },
        "id": "hONNlg301wh6",
        "outputId": "e2cbf65a-9729-46e1-8c5b-2234554ca19e"
      },
      "source": [
        "def getSSCardinality(A):\n",
        "    return len(simple_set(A))\n",
        "\n",
        "list_A=[1,1,2,2,3,4,5,5,6,7]\n",
        "print(getSSCardinality(list_A))"
      ],
      "execution_count": null,
      "outputs": [
        {
          "output_type": "stream",
          "text": [
            "7\n"
          ],
          "name": "stdout"
        }
      ]
    },
    {
      "cell_type": "markdown",
      "metadata": {
        "id": "_ZvP2XzM2JTX"
      },
      "source": [
        "7. To get the complement of a given set A."
      ]
    },
    {
      "cell_type": "code",
      "metadata": {
        "colab": {
          "base_uri": "https://localhost:8080/"
        },
        "id": "kRaHwSPD2HIs",
        "outputId": "c18748d5-e22f-435b-9f81-8d66aa0c5adc"
      },
      "source": [
        "def compliment(U, A):\n",
        "  A = set(A)\n",
        "  U = set(U)\n",
        "  if A.issubset(U):\n",
        "      return U - A\n",
        "  return None\n",
        "\n",
        "U = [1,2,3,4,5,6,7,8,9,10]\n",
        "A = [3,4,5,6]\n",
        "print(compliment(U, A))"
      ],
      "execution_count": null,
      "outputs": [
        {
          "output_type": "stream",
          "text": [
            "{1, 2, 7, 8, 9, 10}\n"
          ],
          "name": "stdout"
        }
      ]
    },
    {
      "cell_type": "markdown",
      "metadata": {
        "id": "xnNyH0El3xmR"
      },
      "source": [
        "8. To produce\n",
        "\n",
        "\n",
        "\n",
        "*   Intersection\n",
        "*   Union\n",
        "*   set difference of given two sets A and B\n",
        "\n",
        "\n",
        "\n"
      ]
    },
    {
      "cell_type": "code",
      "metadata": {
        "colab": {
          "base_uri": "https://localhost:8080/"
        },
        "id": "-5D9Dfmg3pCt",
        "outputId": "0abbfffb-a9ae-412a-964a-a8dd06374bda"
      },
      "source": [
        "def intersection(A,B):\n",
        "  return A & B\n",
        "\n",
        "def union(A,B):\n",
        "  return A | B\n",
        "\n",
        "def difference(A,B):\n",
        "  return A - B\n",
        "\n",
        "A = set({1,2,3,4,5,6,7,8,10,12})\n",
        "B = set({2,5,6,7,3,4,10,8})\n",
        "print(\"Intersection:- \",intersection(A,B))\n",
        "print(\"Union:- \",union(A,B))\n",
        "print(\"Difference:- \",difference(A,B))"
      ],
      "execution_count": null,
      "outputs": [
        {
          "output_type": "stream",
          "text": [
            "Intersection:-  {2, 3, 4, 5, 6, 7, 8, 10}\n",
            "Union:-  {1, 2, 3, 4, 5, 6, 7, 8, 10, 12}\n",
            "Difference:-  {1, 12}\n"
          ],
          "name": "stdout"
        }
      ]
    },
    {
      "cell_type": "markdown",
      "metadata": {
        "id": "Dk9QwnB146X9"
      },
      "source": [
        "9.     To develop boolean functions for testing whether\n",
        "\n",
        "*   is A a subset of B \n",
        "*   is A equals to B"
      ]
    },
    {
      "cell_type": "code",
      "metadata": {
        "colab": {
          "base_uri": "https://localhost:8080/"
        },
        "id": "ek56mMob4e-i",
        "outputId": "60440bea-c015-4e54-ab8d-c8f3176755f4"
      },
      "source": [
        "def isSubset(A,B):\n",
        "  return A.issubset(B)\n",
        "\n",
        "def isEqual(A,B):\n",
        "  return (A.issubset(A) and B.issubset(A))\n",
        "\n",
        "A = set({1,2,3,4,5,6,7,8,9,10})\n",
        "B = set({2,5,6,7,3})\n",
        "C = set({2,5,6,7,3})\n",
        "D = set({11,13})\n",
        "\n",
        "print('is B subset of A:- ',isSubset(B,A))\n",
        "print('is D subset of A:- ',isSubset(D,A))\n",
        "print('are B and C equal:- ',isEqual(C,B))\n",
        "print('are B and D equal:- ',isEqual(D,B))"
      ],
      "execution_count": null,
      "outputs": [
        {
          "output_type": "stream",
          "text": [
            "is B subset of A:-  True\n",
            "is D subset of A:-  False\n",
            "are B and C equal:-  True\n",
            "are B and D equal:-  False\n"
          ],
          "name": "stdout"
        }
      ]
    },
    {
      "cell_type": "markdown",
      "metadata": {
        "id": "u9h2uG0o6dq-"
      },
      "source": [
        "10.  To develop a boolean flag vector corresponding to elements of a given partition P,\n",
        "\n",
        "*   is A  a super set of element of P \n",
        "*   is A has non-trivial intersection with the element of P."
      ]
    },
    {
      "cell_type": "code",
      "metadata": {
        "colab": {
          "base_uri": "https://localhost:8080/"
        },
        "id": "Fe7IQSlI6UIt",
        "outputId": "41f1ed78-c5dd-4721-efd8-cfd252bd060a"
      },
      "source": [
        "def isSSPartition(A, P):\n",
        "  flag_vec = {}\n",
        "  for key in P:\n",
        "    flag_vec[key] = A.issuperset(P[key])\n",
        "  return flag_vec\n",
        "\n",
        "def isSSPartition_att(A,att):\n",
        "  P = partition(att)\n",
        "  return isSSPartition(A,P)\n",
        "\n",
        "def isNonTrivIntPartition(A, P):\n",
        "  flag_vec = {}\n",
        "  for key in P:\n",
        "    flag_vec[key] = (len(A & set(P[key])) != 0)\n",
        "  return flag_vec\n",
        "\n",
        "def isNonTrivIntPartition_att(A, att):\n",
        "  P = partition(att)\n",
        "  return isNonTrivIntPartition(A, P)\n",
        "\n",
        "P = partition('Windy')\n",
        "A = set(partition('Class')['P'])\n",
        "\n",
        "print('Super Set')\n",
        "print('Flags:- ',isSSPartition(A,P))\n",
        "print('Flags:- ',isSSPartition_att(A,'Outlook'))\n",
        "print('Non Trivial Intersection')\n",
        "print('Flags:- ',isNonTrivIntPartition(A, P))\n",
        "print('Flags:- ',isNonTrivIntPartition_att(A,'Outlook'))"
      ],
      "execution_count": null,
      "outputs": [
        {
          "output_type": "stream",
          "text": [
            "Super Set\n",
            "Flags:-  {False: False, True: False}\n",
            "Flags:-  {'sunny': False, 'overcast': True, 'rain': False}\n",
            "Non Trivial Intersection\n",
            "Flags:-  {False: True, True: True}\n",
            "Flags:-  {'sunny': True, 'overcast': True, 'rain': True}\n"
          ],
          "name": "stdout"
        }
      ]
    },
    {
      "cell_type": "markdown",
      "metadata": {
        "id": "Y5VnhZI9Fhet"
      },
      "source": [
        "11. To obtain the union of elements of the given partition P for which the flags are one (true) based on\n",
        "\n",
        "*   super set flags \n",
        "*   non-trivial intersection flags for a given set A. \n",
        "\n",
        "The resultant sets will be referred as Lower Approximation of A and Upper Approximation of A respectively with respective to the partition P."
      ]
    },
    {
      "cell_type": "code",
      "metadata": {
        "colab": {
          "base_uri": "https://localhost:8080/"
        },
        "id": "ZN5s_Ga4_t4Z",
        "outputId": "1d5484ac-a90c-4d4b-8d96-3f64e6b74b0b"
      },
      "source": [
        "def lowerSetApp(A, P):\n",
        "  flags = isSSPartition(A,P)\n",
        "  LSA = set({})\n",
        "  for key in P:\n",
        "    if flags[key]:\n",
        "      LSA = LSA | set(P[key])\n",
        "  return LSA\n",
        "\n",
        "def upperSetApp(A, P):\n",
        "  flags = isNonTrivIntPartition(A, P)\n",
        "  USA = set({})\n",
        "  for key in P:\n",
        "    if flags[key]:\n",
        "      USA = USA | set(P[key])\n",
        "  return USA\n",
        "\n",
        "P = partition('Outlook')\n",
        "A = set(partition('Class')['P'])\n",
        "\n",
        "print('Lower Set Approximation:- ',lowerSetApp(A,P))\n",
        "print('Upper Set Approximation:- ',upperSetApp(A,P))"
      ],
      "execution_count": null,
      "outputs": [
        {
          "output_type": "stream",
          "text": [
            "Lower Set Approximation:-  {'O3', 'O13', 'O12', 'O7'}\n",
            "Upper Set Approximation:-  {'O3', 'O12', 'O1', 'O13', 'O2', 'O14', 'O11', 'O4', 'O10', 'O5', 'O8', 'O9', 'O6', 'O7'}\n"
          ],
          "name": "stdout"
        }
      ]
    },
    {
      "cell_type": "markdown",
      "metadata": {
        "id": "IC_yj2KDIvqd"
      },
      "source": [
        "12. Develop an algorithm which returns Lower and Upper Approximations of given set A with respective to given Partition P. Name this function as f_LUSA(A,P) let us denote the return values of the algorithm as LSA and USA"
      ]
    },
    {
      "cell_type": "code",
      "metadata": {
        "colab": {
          "base_uri": "https://localhost:8080/"
        },
        "id": "oJCDPuu6G-dg",
        "outputId": "e742601c-debe-4808-9e48-0763d0fca600"
      },
      "source": [
        "def f_LUSA(A,P):\n",
        "  LSA = lowerSetApp(A, P)\n",
        "  USA = upperSetApp(A, P)\n",
        "  return LSA, USA\n",
        "\n",
        "P = partition('Outlook')\n",
        "A = set(partition('Class')['P'])\n",
        "\n",
        "L, U = f_LUSA(A,P)\n",
        "print('Lower Set Approximation:- ',L)\n",
        "print('Upper Set Approximation:- ',U)"
      ],
      "execution_count": null,
      "outputs": [
        {
          "output_type": "stream",
          "text": [
            "Lower Set Approximation:-  {'O3', 'O13', 'O12', 'O7'}\n",
            "Upper Set Approximation:-  {'O3', 'O12', 'O1', 'O13', 'O2', 'O14', 'O11', 'O4', 'O10', 'O5', 'O8', 'O9', 'O6', 'O7'}\n"
          ],
          "name": "stdout"
        }
      ]
    },
    {
      "cell_type": "markdown",
      "metadata": {
        "id": "GdTFtcaKJuLf"
      },
      "source": [
        "13. To obtain the set difference of USA and LSA. Say this resultant set as Boundary set of A denoted as BNA."
      ]
    },
    {
      "cell_type": "code",
      "metadata": {
        "colab": {
          "base_uri": "https://localhost:8080/"
        },
        "id": "fGFUoT3cJkxv",
        "outputId": "7e5d8fb4-b22c-4f9a-d8be-3bb164632dee"
      },
      "source": [
        "def getBNA(USA, LSA):\n",
        "  return USA - LSA\n",
        "\n",
        "P = partition('Outlook')\n",
        "A = set(partition('Class')['P'])\n",
        "L, U = f_LUSA(A,P)\n",
        "\n",
        "print(\"Boundary Set of A:- \", getBNA(U,L))"
      ],
      "execution_count": null,
      "outputs": [
        {
          "output_type": "stream",
          "text": [
            "Boundary Set of A:-  {'O9', 'O1', 'O14', 'O11', 'O4', 'O10', 'O5', 'O8', 'O2', 'O6'}\n"
          ],
          "name": "stdout"
        }
      ]
    },
    {
      "cell_type": "markdown",
      "metadata": {
        "id": "mOqHOY6_KYEk"
      },
      "source": [
        "14.  To obtain the complement set of USA.   Say this resultant set as Negative set  of A denoted as NGA."
      ]
    },
    {
      "cell_type": "code",
      "metadata": {
        "colab": {
          "base_uri": "https://localhost:8080/"
        },
        "id": "zqyPCk0zKFsh",
        "outputId": "0e2917b8-6139-448e-880c-d58fdf5ce7ed"
      },
      "source": [
        "def getNGA(USA):\n",
        "  return compliment(Universe, USA)\n",
        "\n",
        "P = partition('Outlook')\n",
        "A = set(partition('Class')['P'])\n",
        "USA = upperSetApp(A,P)\n",
        "\n",
        "print(\"Negative Set of A:- \",getNGA(USA))"
      ],
      "execution_count": null,
      "outputs": [
        {
          "output_type": "stream",
          "text": [
            "Negative Set of A:-  set()\n"
          ],
          "name": "stdout"
        }
      ]
    },
    {
      "cell_type": "markdown",
      "metadata": {
        "id": "JNPREM3JL6Fj"
      },
      "source": [
        "15.  Develop an algorithm to get the Cardinality of sets A, U, LSA, USA,  BNA and NGA with respective to a Partition P obtained from  an attribute of given Information System or Decision System.  Say the output of this algorithm as n_A, N_U, n_LSA, n_USA, n_BNA and n_NGA  respectively."
      ]
    },
    {
      "cell_type": "code",
      "metadata": {
        "colab": {
          "base_uri": "https://localhost:8080/"
        },
        "id": "ONdk_a1oLAi2",
        "outputId": "387d1204-7945-41be-ce17-3f50b9ab7914"
      },
      "source": [
        "def getCardinalities(att):\n",
        "  P = partition('Outlook')\n",
        "  A = set(partition('Class')['P'])\n",
        "  n_A = len(A)\n",
        "  n_U = len(Universe)\n",
        "  LSA, USA = f_LUSA(A,P)\n",
        "  n_LSA = len(LSA)\n",
        "  n_USA = len(USA)\n",
        "  BNA = getBNA(USA, LSA)\n",
        "  n_BNA = len(BNA)\n",
        "  NGA = getNGA(USA)\n",
        "  n_NGA = len(NGA)\n",
        "  return n_A, n_U, n_LSA, n_USA, n_BNA, n_NGA\n",
        "\n",
        "a, u, lsa, usa, bna, nga = getCardinalities(\"Outlook\")\n",
        "print(\"Cardinality of set A:- \",a)\n",
        "print(\"Cardinality of Universe:- \",u)\n",
        "print(\"Cardinality of Lower Set Approximation:- \",lsa)\n",
        "print(\"Cardinality of Upper Set Approximation:- \",usa)\n",
        "print(\"Cardinality of Border Set Approximation:- \",bna)\n",
        "print(\"Cardinality of Negative Set Approximation:- \",nga)"
      ],
      "execution_count": null,
      "outputs": [
        {
          "output_type": "stream",
          "text": [
            "Cardinality of set A:-  9\n",
            "Cardinality of Universe:-  14\n",
            "Cardinality of Lower Set Approximation:-  4\n",
            "Cardinality of Upper Set Approximation:-  14\n",
            "Cardinality of Border Set Approximation:-  10\n",
            "Cardinality of Negative Set Approximation:-  0\n"
          ],
          "name": "stdout"
        }
      ]
    },
    {
      "cell_type": "markdown",
      "metadata": {
        "id": "rLQgnKJQN_Cq"
      },
      "source": [
        "16.   To verify that LSA, BNA and NGA of given set A with respect to a given  Partition P is a partition of U, the Universal set."
      ]
    },
    {
      "cell_type": "code",
      "metadata": {
        "colab": {
          "base_uri": "https://localhost:8080/"
        },
        "id": "oihkpTWnN7sr",
        "outputId": "50859158-6847-4bef-9168-7bddf05ec610"
      },
      "source": [
        "def verify(att):\n",
        "  P = partition(att)\n",
        "  A = set(partition('Class')['P'])\n",
        "  LSA, USA = f_LUSA(A,P)\n",
        "  LSA = set(LSA)\n",
        "  BNA = set(getBNA(USA, LSA))\n",
        "  NGA = set(getNGA(USA))\n",
        "  if isEqual(set(Universe),union(union(LSA,BNA),NGA)) and len(intersection(LSA,BNA)) == 0 and len(intersection(BNA,NGA)) == 0 and len(intersection(NGA,LSA)) == 0:\n",
        "    print(\"Verified\")\n",
        "  else:\n",
        "    print(\"Disproved\")\n",
        "\n",
        "verify(\"Outlook\")\n",
        "verify(\"Windy\")"
      ],
      "execution_count": null,
      "outputs": [
        {
          "output_type": "stream",
          "text": [
            "Verified\n",
            "Verified\n"
          ],
          "name": "stdout"
        }
      ]
    }
  ]
}